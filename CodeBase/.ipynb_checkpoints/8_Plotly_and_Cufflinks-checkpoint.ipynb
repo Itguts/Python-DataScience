{
 "cells": [
  {
   "cell_type": "markdown",
   "metadata": {},
   "source": [
    "# Plotly and Cufflinks"
   ]
  },
  {
   "cell_type": "code",
   "execution_count": 2,
   "metadata": {},
   "outputs": [],
   "source": [
    "# Plotly is an interactive visualization library\n",
    "# Cufflinks connects plotly with pandas\n",
    "# We need to install them"
   ]
  },
  {
   "cell_type": "code",
   "execution_count": null,
   "metadata": {},
   "outputs": [],
   "source": [
    "# pip install plotly\n",
    "# pip install cufflinks\n",
    "# setx PATH \"%PATH%;C:\\Python34\\Scripts\" -- run this on cmd if pip is not recognised\n",
    "### http://plot.ly"
   ]
  }
 ],
 "metadata": {
  "kernelspec": {
   "display_name": "Python 3",
   "language": "python",
   "name": "python3"
  },
  "language_info": {
   "codemirror_mode": {
    "name": "ipython",
    "version": 3
   },
   "file_extension": ".py",
   "mimetype": "text/x-python",
   "name": "python",
   "nbconvert_exporter": "python",
   "pygments_lexer": "ipython3",
   "version": "3.7.1"
  }
 },
 "nbformat": 4,
 "nbformat_minor": 2
}
